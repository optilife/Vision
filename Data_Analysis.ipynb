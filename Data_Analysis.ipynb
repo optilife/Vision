{
 "cells": [
  {
   "cell_type": "code",
   "execution_count": 20,
   "metadata": {
    "collapsed": false
   },
   "outputs": [],
   "source": [
    "from Helper import nutritionix_wrapper\n",
    "\n",
    "foods = ['banana', 'apple', 'orange','tomato',\n",
    "         'fries','kebab','spaghetti','steak','chicken', 'soup', 'fish']\n",
    "\n",
    "labels = [1,1,1,1,0,0,0,0,0,1,1]"
   ]
  },
  {
   "cell_type": "code",
   "execution_count": 21,
   "metadata": {
    "collapsed": false
   },
   "outputs": [
    {
     "name": "stdout",
     "output_type": "stream",
     "text": [
      "WE GOOD\n",
      "WE GOOD\n",
      "WE GOOD\n",
      "WE GOOD\n",
      "WE GOOD\n",
      "WE GOOD\n",
      "WE GOOD\n",
      "WE GOOD\n",
      "WE GOOD\n",
      "WE GOOD\n",
      "WE GOOD\n"
     ]
    }
   ],
   "source": [
    "ratio = list()\n",
    "for _food in foods:\n",
    "    ratio.append(nutritionix_wrapper(_food))"
   ]
  },
  {
   "cell_type": "code",
   "execution_count": 17,
   "metadata": {
    "collapsed": false
   },
   "outputs": [
    {
     "name": "stderr",
     "output_type": "stream",
     "text": [
      "/Users/axeluran/anaconda/lib/python3.6/site-packages/matplotlib/axes/_axes.py:545: UserWarning: No labelled objects found. Use label='...' kwarg on individual plots.\n",
      "  warnings.warn(\"No labelled objects found. \"\n"
     ]
    },
    {
     "data": {
      "image/png": "[encoded data removed]",
      "text/plain": [
       "<matplotlib.figure.Figure at 0x10b8586d8>"
      ]
     },
     "metadata": {},
     "output_type": "display_data"
    }
   ],
   "source": [
    "import matplotlib.pyplot as plt\n",
    "\n",
    "plt.figure()\n",
    "plt.xlabel(\" Calories / Weight  ratio\")\n",
    "plt.ylabel(\"Label\")\n",
    "plt.grid(linewidth=0.2)\n",
    "plt.scatter(ratio, labels)\n",
    "\n",
    "plt.legend(loc=\"best\")\n",
    "plt.show()\n"
   ]
  },
  {
   "cell_type": "markdown",
   "metadata": {},
   "source": [
    "We will arbitrarly decide for now that the limit for the ratio to delimit if a food is healthy or not will be 1.2"
   ]
  }
 ],
 "metadata": {
  "kernelspec": {
   "display_name": "Python 3",
   "language": "python",
   "name": "python3"
  },
  "language_info": {
   "codemirror_mode": {
    "name": "ipython",
    "version": 3
   },
   "file_extension": ".py",
   "mimetype": "text/x-python",
   "name": "python",
   "nbconvert_exporter": "python",
   "pygments_lexer": "ipython3",
   "version": "3.6.0"
  }
 },
 "nbformat": 4,
 "nbformat_minor": 2
}
